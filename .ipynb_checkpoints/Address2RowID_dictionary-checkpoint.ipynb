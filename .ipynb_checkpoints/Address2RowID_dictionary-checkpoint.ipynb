{
 "cells": [
  {
   "cell_type": "code",
   "execution_count": 1,
   "id": "b3d26843-797b-4bdb-ab56-d85135c1464a",
   "metadata": {},
   "outputs": [
    {
     "name": "stdout",
     "output_type": "stream",
     "text": [
      "/Users/taozang/Zillow/Extracted_Data_MIAMI/12_ZAsmt_CSV\n",
      "Elapsed time is 14.85540509223938 seconds, or 0.2475902001063029 minutes.\n"
     ]
    }
   ],
   "source": [
    "%cd /Users/taozang/Zillow/Extracted_Data_MIAMI/12_ZAsmt_CSV/\n",
    "import pandas as pd\n",
    "import numpy as np\n",
    "# tables = ['Building', 'BuildingAreas', \n",
    "#           'CareOfName', 'ExteriorWall', 'ExtraFeature', 'Garage', 'InteriorFlooring', \n",
    "#           'InteriorWall', 'LotSiteAppeal', 'MailAddress', 'Main', 'Name', 'Oby', 'Pool', \n",
    "#           'SaleData', 'TaxDistrict', 'TaxExemption', 'TypeConstruction', 'Value', 'VestingCodes']\n",
    "\n",
    "import ReadZTRAX as rz\n",
    "rz.tic()\n",
    "full_df = pd.read_csv('/Users/taozang/Zillow/Extracted_Data_MIAMI/12_ZAsmt_CSV/Main.csv', low_memory=False)\n",
    "rz.toc()"
   ]
  },
  {
   "cell_type": "code",
   "execution_count": 2,
   "id": "87e57f80-1785-48a2-bf41-9bf4fa37287c",
   "metadata": {
    "tags": []
   },
   "outputs": [],
   "source": [
    "# Step 1: make a deep copy of full_df and remove NaN in Address column\n",
    "df = full_df.copy() \n",
    "df = df.dropna(subset=['PropertyFullStreetAddress']).reset_index()\n",
    "\n",
    "# Step 2: Find occurances of each unique address\n",
    "repeated_times = df['PropertyFullStreetAddress'].value_counts() \n",
    "\n",
    "# Step3: Find the index for each unique address' first appearance in the column\n",
    "unique_index = df.drop_duplicates(subset = [\"PropertyFullStreetAddress\"]).index.values"
   ]
  },
  {
   "cell_type": "code",
   "execution_count": 4,
   "id": "e2a40283-208e-4c23-b003-215ed3e3b8f3",
   "metadata": {},
   "outputs": [
    {
     "name": "stdout",
     "output_type": "stream",
     "text": [
      "Elapsed time is 88.47343420982361 seconds, or 1.4745573361714681 minutes.\n"
     ]
    }
   ],
   "source": [
    "# Core Algorithm for fast data extraction\n",
    "# Running time reduced to less than 2 min!\n",
    "address_dict = {}\n",
    "rz.tic()\n",
    "for first_occur_idx in unique_index:\n",
    "    curr_address = df.loc[first_occur_idx]['PropertyFullStreetAddress']\n",
    "    occurance = repeated_times[curr_address]\n",
    "    repeated_subset = df.iloc[first_occur_idx:first_occur_idx + occurance]\n",
    "    rowID_set = repeated_subset['RowID'].to_list() # use to_list for later saving as json \n",
    "    address_dict[curr_address] = rowID_set\n",
    "rz.toc()"
   ]
  },
  {
   "cell_type": "code",
   "execution_count": 10,
   "id": "75aaf812-7ba2-4c1a-bb0a-5e21a814b160",
   "metadata": {},
   "outputs": [
    {
     "data": {
      "text/plain": [
       "535"
      ]
     },
     "execution_count": 10,
     "metadata": {},
     "output_type": "execute_result"
    }
   ],
   "source": [
    "len(address_dict['92 SW 3rd St'])\n",
    "# in reality this is a large apartment, with over 500 units! "
   ]
  },
  {
   "cell_type": "code",
   "execution_count": 6,
   "id": "a3fa3fda-a5d7-4de3-b7bb-8632b1d72c7e",
   "metadata": {},
   "outputs": [],
   "source": [
    "# load json module\n",
    "import json\n",
    "\n",
    "# create json object from dictionary\n",
    "json = json.dumps(address_dict)\n",
    "\n",
    "# open file for writing, \"w\" \n",
    "f = open(\"Florida_Miami_address_dictionary.json\",\"w\")\n",
    "\n",
    "# write json object to file\n",
    "f.write(json)\n",
    "\n",
    "# close file\n",
    "f.close()"
   ]
  },
  {
   "cell_type": "code",
   "execution_count": null,
   "id": "898cd66d-be48-4d98-aa69-d9bdbcc4d66f",
   "metadata": {},
   "outputs": [],
   "source": []
  }
 ],
 "metadata": {
  "kernelspec": {
   "display_name": "Python 3 (ipykernel)",
   "language": "python",
   "name": "python3"
  },
  "language_info": {
   "codemirror_mode": {
    "name": "ipython",
    "version": 3
   },
   "file_extension": ".py",
   "mimetype": "text/x-python",
   "name": "python",
   "nbconvert_exporter": "python",
   "pygments_lexer": "ipython3",
   "version": "3.9.7"
  }
 },
 "nbformat": 4,
 "nbformat_minor": 5
}
