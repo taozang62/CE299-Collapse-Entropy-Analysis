{
 "cells": [
  {
   "cell_type": "code",
   "execution_count": 5,
   "id": "69bc67c4-4979-4cfe-9da2-b85b682ab8c7",
   "metadata": {},
   "outputs": [
    {
     "data": {
      "text/html": [
       "<div>\n",
       "<style scoped>\n",
       "    .dataframe tbody tr th:only-of-type {\n",
       "        vertical-align: middle;\n",
       "    }\n",
       "\n",
       "    .dataframe tbody tr th {\n",
       "        vertical-align: top;\n",
       "    }\n",
       "\n",
       "    .dataframe thead th {\n",
       "        text-align: right;\n",
       "    }\n",
       "</style>\n",
       "<table border=\"1\" class=\"dataframe\">\n",
       "  <thead>\n",
       "    <tr style=\"text-align: right;\">\n",
       "      <th></th>\n",
       "      <th>Name</th>\n",
       "      <th>Employment Type</th>\n",
       "      <th>Department</th>\n",
       "    </tr>\n",
       "  </thead>\n",
       "  <tbody>\n",
       "    <tr>\n",
       "      <th>0</th>\n",
       "      <td>Arpit</td>\n",
       "      <td>Full-time Employee</td>\n",
       "      <td>Administration</td>\n",
       "    </tr>\n",
       "    <tr>\n",
       "      <th>1</th>\n",
       "      <td>Riya</td>\n",
       "      <td>Part-time Employee</td>\n",
       "      <td>Marketing</td>\n",
       "    </tr>\n",
       "    <tr>\n",
       "      <th>2</th>\n",
       "      <td>Priyanka</td>\n",
       "      <td>Full-time Employee</td>\n",
       "      <td>Technical</td>\n",
       "    </tr>\n",
       "    <tr>\n",
       "      <th>3</th>\n",
       "      <td>Aman</td>\n",
       "      <td>Intern</td>\n",
       "      <td>Marketing</td>\n",
       "    </tr>\n",
       "    <tr>\n",
       "      <th>4</th>\n",
       "      <td>Arpit</td>\n",
       "      <td>Full-time Employee</td>\n",
       "      <td>Administration</td>\n",
       "    </tr>\n",
       "    <tr>\n",
       "      <th>5</th>\n",
       "      <td>Rohan</td>\n",
       "      <td>Part-time Employee</td>\n",
       "      <td>Technical</td>\n",
       "    </tr>\n",
       "    <tr>\n",
       "      <th>6</th>\n",
       "      <td>Riya</td>\n",
       "      <td>unemploy</td>\n",
       "      <td>Marketing</td>\n",
       "    </tr>\n",
       "    <tr>\n",
       "      <th>7</th>\n",
       "      <td>Sakshi</td>\n",
       "      <td>Full-time Employee</td>\n",
       "      <td>Administration</td>\n",
       "    </tr>\n",
       "  </tbody>\n",
       "</table>\n",
       "</div>"
      ],
      "text/plain": [
       "       Name     Employment Type      Department\n",
       "0     Arpit  Full-time Employee  Administration\n",
       "1      Riya  Part-time Employee       Marketing\n",
       "2  Priyanka  Full-time Employee       Technical\n",
       "3      Aman              Intern       Marketing\n",
       "4     Arpit  Full-time Employee  Administration\n",
       "5     Rohan  Part-time Employee       Technical\n",
       "6      Riya            unemploy       Marketing\n",
       "7    Sakshi  Full-time Employee  Administration"
      ]
     },
     "execution_count": 5,
     "metadata": {},
     "output_type": "execute_result"
    }
   ],
   "source": [
    "# Create a DataFrame\n",
    "import pandas as pd\n",
    "data_df = {'Name': ['Arpit', 'Riya', 'Priyanka', 'Aman', 'Arpit', 'Rohan', 'Riya', 'Sakshi'],\n",
    "\n",
    "           'Employment Type': ['Full-time Employee', 'Part-time Employee', 'Full-time Employee', 'Intern',\n",
    "                               'Full-time Employee', 'Part-time Employee', 'unemploy', 'Full-time Employee'],\n",
    "\n",
    "           'Department': ['Administration', 'Marketing', 'Technical', 'Marketing',\n",
    "                          'Administration', 'Technical', 'Marketing', 'Administration']}\n",
    "\n",
    "df = pd.DataFrame(data_df)\n",
    "df"
   ]
  },
  {
   "cell_type": "code",
   "execution_count": 6,
   "id": "71c4892d-3a2d-4303-b2b4-a0e1df62220b",
   "metadata": {},
   "outputs": [],
   "source": [
    "repeated_times = df['Employment Type'].value_counts()"
   ]
  },
  {
   "cell_type": "code",
   "execution_count": 7,
   "id": "b6ea71aa-2a5f-4248-8995-082f7442209a",
   "metadata": {},
   "outputs": [
    {
     "data": {
      "text/plain": [
       "Full-time Employee    4\n",
       "Part-time Employee    2\n",
       "Intern                1\n",
       "unemploy              1\n",
       "Name: Employment Type, dtype: int64"
      ]
     },
     "execution_count": 7,
     "metadata": {},
     "output_type": "execute_result"
    }
   ],
   "source": [
    "repeated_times"
   ]
  },
  {
   "cell_type": "code",
   "execution_count": 10,
   "id": "c43f4943-18ba-47f1-9c5a-ed4b7d27a816",
   "metadata": {},
   "outputs": [],
   "source": [
    "unique_index = df.drop_duplicates(subset = [\"Employment Type\"]).index.values"
   ]
  },
  {
   "cell_type": "code",
   "execution_count": 11,
   "id": "8ded14bb-cd72-478c-9a45-31d6d80b284f",
   "metadata": {},
   "outputs": [
    {
     "data": {
      "text/plain": [
       "array([0, 1, 3, 6])"
      ]
     },
     "execution_count": 11,
     "metadata": {},
     "output_type": "execute_result"
    }
   ],
   "source": [
    "unique_index"
   ]
  },
  {
   "cell_type": "code",
   "execution_count": 12,
   "id": "8a152334-2444-4c8a-aad8-f187a4bfed22",
   "metadata": {},
   "outputs": [],
   "source": [
    "# load json module\n",
    "import json\n",
    "\n",
    "# python dictionary with key value pairs\n",
    "dict = {'Python' : '.py', 'C++' : '.cpp', 'Java' : '.java'}\n",
    "\n",
    "# create json object from dictionary\n",
    "json = json.dumps(dict)\n",
    "\n",
    "# open file for writing, \"w\" \n",
    "f = open(\"dict.json\",\"w\")\n",
    "\n",
    "# write json object to file\n",
    "f.write(json)\n",
    "\n",
    "# close file\n",
    "f.close()"
   ]
  },
  {
   "cell_type": "code",
   "execution_count": null,
   "id": "4ada29cc-9e32-4717-812c-98c7c5c75b2d",
   "metadata": {},
   "outputs": [],
   "source": []
  }
 ],
 "metadata": {
  "kernelspec": {
   "display_name": "Python 3 (ipykernel)",
   "language": "python",
   "name": "python3"
  },
  "language_info": {
   "codemirror_mode": {
    "name": "ipython",
    "version": 3
   },
   "file_extension": ".py",
   "mimetype": "text/x-python",
   "name": "python",
   "nbconvert_exporter": "python",
   "pygments_lexer": "ipython3",
   "version": "3.9.7"
  }
 },
 "nbformat": 4,
 "nbformat_minor": 5
}
