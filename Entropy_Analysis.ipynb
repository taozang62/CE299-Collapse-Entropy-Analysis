{
 "cells": [
  {
   "cell_type": "code",
   "execution_count": 2,
   "id": "7554d95d-9a29-4d15-8098-b5e2b46ada81",
   "metadata": {},
   "outputs": [
    {
     "name": "stdout",
     "output_type": "stream",
     "text": [
      "/Users/taozang/Zillow/ZTRAX/12/ZAsmt/12_ZAsmt_CSV\n"
     ]
    }
   ],
   "source": [
    "%cd /Users/taozang/Zillow/ZTRAX/12/ZAsmt/12_ZAsmt_CSV/\n",
    "import utility as ut\n",
    "import pandas as pd\n",
    "tables = ['Building', 'BuildingAreas', \n",
    "          'CareOfName', 'ExteriorWall', 'ExtraFeature', 'Garage', 'InteriorFlooring', \n",
    "          'InteriorWall', 'LotSiteAppeal', 'MailAddress', 'Main', 'Name', 'Oby', 'Pool', \n",
    "          'SaleData', 'TaxDistrict', 'TaxExemption', 'TypeConstruction', 'Value', 'VestingCodes']"
   ]
  },
  {
   "cell_type": "code",
   "execution_count": 3,
   "id": "1cbdc6ef-bee2-4b91-85c9-bd1f4e86c271",
   "metadata": {},
   "outputs": [
    {
     "name": "stdout",
     "output_type": "stream",
     "text": [
      "Elapsed time is 5.387606859207153seconds, or 0.08979370196660359 minutes.\n",
      "Building is done\n",
      "Elapsed time is 3.2158031463623047seconds, or 0.05359694957733154 minutes.\n",
      "BuildingAreas is done\n",
      "Elapsed time is 0.029021024703979492seconds, or 0.0004837512969970703 minutes.\n",
      "CareOfName is done\n",
      "Elapsed time is 0.5994617938995361seconds, or 0.009991196791330974 minutes.\n",
      "ExteriorWall is done\n",
      "Elapsed time is 0.4430408477783203seconds, or 0.007384165128072103 minutes.\n",
      "ExtraFeature is done\n",
      "Elapsed time is 0.024923086166381836seconds, or 0.0004154483477274577 minutes.\n",
      "Garage is done\n",
      "Elapsed time is 0.0046539306640625seconds, or 7.761319478352865e-05 minutes.\n",
      "InteriorFlooring is done\n",
      "Elapsed time is 0.4186742305755615seconds, or 0.0069781184196472164 minutes.\n",
      "InteriorWall is done\n",
      "Elapsed time is 0.0016930103302001953seconds, or 2.8284390767415366e-05 minutes.\n",
      "LotSiteAppeal is done\n",
      "Elapsed time is 7.013736963272095seconds, or 0.11689578294754029 minutes.\n",
      "MailAddress is done\n",
      "Elapsed time is 17.669311046600342seconds, or 0.29448871612548827 minutes.\n",
      "Main is done\n",
      "Elapsed time is 2.627530097961426seconds, or 0.04379231532414754 minutes.\n",
      "Name is done\n",
      "Elapsed time is 0.28856515884399414seconds, or 0.004809566338857015 minutes.\n",
      "Oby is done\n",
      "Elapsed time is 0.08875131607055664seconds, or 0.0014792839686075846 minutes.\n",
      "Pool is done\n",
      "Elapsed time is 8.454406976699829seconds, or 0.14090696573257447 minutes.\n",
      "SaleData is done\n",
      "Elapsed time is 0.0027658939361572266seconds, or 4.6130021413167315e-05 minutes.\n",
      "TaxDistrict is done\n",
      "Elapsed time is 0.003009796142578125seconds, or 5.019903182983399e-05 minutes.\n",
      "TaxExemption is done\n",
      "Elapsed time is 0.03177809715270996seconds, or 0.0005297025044759114 minutes.\n",
      "TypeConstruction is done\n",
      "Elapsed time is 1.9099972248077393seconds, or 0.031833453973134355 minutes.\n",
      "Value is done\n",
      "Elapsed time is 0.003134012222290039seconds, or 5.2265326182047526e-05 minutes.\n",
      "VestingCodes is done\n"
     ]
    }
   ],
   "source": [
    "global_feature_list, global_entropy_list = ut.entropy_analysis_multiple_tables(tables)"
   ]
  },
  {
   "cell_type": "code",
   "execution_count": null,
   "id": "d707bd88-1c49-4123-9349-e1e330749901",
   "metadata": {},
   "outputs": [],
   "source": []
  },
  {
   "cell_type": "code",
   "execution_count": null,
   "id": "90b2df50-3fc0-4cca-b93c-76964f097df2",
   "metadata": {},
   "outputs": [],
   "source": []
  }
 ],
 "metadata": {
  "kernelspec": {
   "display_name": "Python 3 (ipykernel)",
   "language": "python",
   "name": "python3"
  },
  "language_info": {
   "codemirror_mode": {
    "name": "ipython",
    "version": 3
   },
   "file_extension": ".py",
   "mimetype": "text/x-python",
   "name": "python",
   "nbconvert_exporter": "python",
   "pygments_lexer": "ipython3",
   "version": "3.9.7"
  }
 },
 "nbformat": 4,
 "nbformat_minor": 5
}
